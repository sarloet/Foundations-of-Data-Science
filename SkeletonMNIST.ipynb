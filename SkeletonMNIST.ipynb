{
  "cells": [
    {
      "cell_type": "markdown",
      "metadata": {
        "id": "view-in-github",
        "colab_type": "text"
      },
      "source": [
        "<a href=\"https://colab.research.google.com/github/sarloet/Foundations-of-Data-Science/blob/main/SkeletonMNIST.ipynb\" target=\"_parent\"><img src=\"https://colab.research.google.com/assets/colab-badge.svg\" alt=\"Open In Colab\"/></a>"
      ]
    },
    {
      "cell_type": "markdown",
      "metadata": {
        "id": "qJsq-_Pthu-X"
      },
      "source": [
        "# Practical 3: MNIST\n",
        "\n",
        "This is the first task of Practical 3. Your task is to build a (convolutional) neural network to classify the handwritten digits from the MNIST dataset (http://yann.lecun.com/exdb/mnist/). \n",
        "\n",
        "You should get an accuracy of **at least 97%** to pass the practical. \n",
        "\n",
        "The model files might be too large to be uploaded to GitHub. \n",
        "Please use the following link to upload your models: https://seafile.ifi.uzh.ch/u/d/695f63e725b641ed8633/\n",
        "\n",
        "Name the model file `{repository_name}-MNIST.h5`. For example, if your repository is FDS22-M0, you should name the model file `FDS22-M0-MNIST.h5`. If you are not satisfied with the model you have uploaded, you can upload a new one with the same name. We will only look at the newest model. Nevertheless, try to upload as few times as possible, since the online drive has a limited amount of space. "
      ]
    },
    {
      "cell_type": "markdown",
      "metadata": {
        "id": "HMhm8f9-hu-d"
      },
      "source": [
        "## Import the libraries"
      ]
    },
    {
      "cell_type": "code",
      "execution_count": 1,
      "metadata": {
        "id": "ZQjoD8achu-f"
      },
      "outputs": [],
      "source": [
        "import numpy as np\n",
        "import pandas as pd\n",
        "import matplotlib.pyplot as plt\n",
        "\n",
        "import tensorflow as tf\n",
        "from tensorflow import keras"
      ]
    },
    {
      "cell_type": "code",
      "execution_count": 2,
      "metadata": {
        "colab": {
          "base_uri": "https://localhost:8080/",
          "height": 35
        },
        "id": "N-YLfEGnhu-i",
        "outputId": "1b3d70a1-9bd2-448e-f5f8-2736e0c995e8"
      },
      "outputs": [
        {
          "output_type": "execute_result",
          "data": {
            "text/plain": [
              "'2.9.2'"
            ],
            "application/vnd.google.colaboratory.intrinsic+json": {
              "type": "string"
            }
          },
          "metadata": {},
          "execution_count": 2
        }
      ],
      "source": [
        "tf.__version__"
      ]
    },
    {
      "cell_type": "code",
      "execution_count": 3,
      "metadata": {
        "colab": {
          "base_uri": "https://localhost:8080/",
          "height": 35
        },
        "id": "h-sx-bdVhu-k",
        "outputId": "09c1c16b-30e3-43c2-9021-1e703dcc642f"
      },
      "outputs": [
        {
          "output_type": "execute_result",
          "data": {
            "text/plain": [
              "'2.9.0'"
            ],
            "application/vnd.google.colaboratory.intrinsic+json": {
              "type": "string"
            }
          },
          "metadata": {},
          "execution_count": 3
        }
      ],
      "source": [
        "tf.keras.__version__"
      ]
    },
    {
      "cell_type": "markdown",
      "metadata": {
        "id": "R5Xip7luhu-m"
      },
      "source": [
        "## Prepare the dataset\n",
        "\n",
        "In this block, you will prepare the data for the training, such as normalisation. "
      ]
    },
    {
      "cell_type": "code",
      "execution_count": null,
      "metadata": {
        "id": "BHMN7l06hu-n",
        "outputId": "2ce2a490-97f1-46b3-9ab8-e7c077fc38fe"
      },
      "outputs": [
        {
          "data": {
            "image/png": "[encoded data removed]",
            "text/plain": [
              "<Figure size 432x288 with 9 Axes>"
            ]
          },
          "metadata": {
            "needs_background": "light"
          },
          "output_type": "display_data"
        },
        {
          "data": {
            "text/plain": [
              "(60000, 28, 28)"
            ]
          },
          "execution_count": 19,
          "metadata": {},
          "output_type": "execute_result"
        }
      ],
      "source": [
        "from keras.datasets import mnist\n",
        "(X_train_full, y_train_full), (X_test, y_test) = mnist.load_data()\n",
        "\n",
        "# reshape dataset to have a single channel\n",
        "X_train_full = X_train_full.reshape((X_train_full.shape[0], 28, 28, 1))\n",
        "X_test = X_test.reshape((X_test.shape[0], 28, 28, 1))\n",
        "\n",
        "# Converts a class vector (integers) to one-hot encoding matrix.\n",
        "y_train_full = keras.utils.to_categorical(y_train_full)\n",
        "y_test = keras.utils.to_categorical(y_test)\n",
        "\n",
        "for i in range(0,9):\n",
        "    plt.subplot(330 + 1 + i)\n",
        "    plt.imshow(X_train_full[i])\n",
        "plt.show()\n",
        "\n",
        "X_train_full.shape\n",
        "\n",
        "\n",
        "\n"
      ]
    },
    {
      "cell_type": "markdown",
      "metadata": {
        "id": "9p1gLFj7hu-o"
      },
      "source": [
        "## Build and train the model\n",
        "\n",
        "Build and train your model. "
      ]
    },
    {
      "cell_type": "code",
      "execution_count": null,
      "metadata": {
        "id": "KIk-I-VWhu-t"
      },
      "outputs": [],
      "source": [
        "# TODO: Build your model\n"
      ]
    },
    {
      "cell_type": "code",
      "execution_count": null,
      "metadata": {
        "id": "HB0_MXzhhu-v"
      },
      "outputs": [],
      "source": [
        "# show the structure of your model\n",
        "model.summary()"
      ]
    },
    {
      "cell_type": "code",
      "execution_count": null,
      "metadata": {
        "id": "6BApiWrchu-x"
      },
      "outputs": [],
      "source": [
        "# Assume you have stored the training history in the variable \"history\"\n",
        "# Show the learning curves\n",
        "pd.DataFrame(history.history).plot(figsize=(12, 8))\n",
        "plt.gca().set_ylim(0, 1)\n",
        "plt.grid(True)\n",
        "plt.show()"
      ]
    },
    {
      "cell_type": "markdown",
      "metadata": {
        "id": "ugD-vSI3hu-2"
      },
      "source": [
        "## Save the model\n",
        "\n",
        "Save and upload your trained model to the seafile link we provided to you. You can upload it multiple times. We will consider only the newest uploaded model. "
      ]
    },
    {
      "cell_type": "code",
      "execution_count": null,
      "metadata": {
        "id": "vJHCgCj6hu-4"
      },
      "outputs": [],
      "source": [
        "model.save('FDS22-M0-MNIST.h5') # change the file name according to your repository name"
      ]
    },
    {
      "cell_type": "markdown",
      "metadata": {
        "id": "20eTs7Mkhu-6"
      },
      "source": [
        "## Load the model and evaluate it on the test data"
      ]
    },
    {
      "cell_type": "code",
      "execution_count": null,
      "metadata": {
        "id": "wLKR9TJxhu-8"
      },
      "outputs": [],
      "source": [
        "model = keras.models.load_model(\"FDS22-M0-MNIST.h5\")\n",
        "model.evaluate(X_test, y_test)"
      ]
    },
    {
      "cell_type": "markdown",
      "metadata": {
        "id": "2ffOYGw1hu-9"
      },
      "source": [
        "## Short report\n",
        "\n",
        "Please write a few sentences explaining how you build and train the model. Please include the decisions you made, such as why you use x number layers and the difficulties you met. "
      ]
    },
    {
      "cell_type": "markdown",
      "metadata": {
        "id": "aL1GXt5Xhu--"
      },
      "source": []
    }
  ],
  "metadata": {
    "kernelspec": {
      "display_name": "Python 3",
      "language": "python",
      "name": "python3"
    },
    "language_info": {
      "codemirror_mode": {
        "name": "ipython",
        "version": 3
      },
      "file_extension": ".py",
      "mimetype": "text/x-python",
      "name": "python",
      "nbconvert_exporter": "python",
      "pygments_lexer": "ipython3",
      "version": "3.8.8"
    },
    "colab": {
      "provenance": [],
      "include_colab_link": true
    },
    "accelerator": "TPU",
    "gpuClass": "standard"
  },
  "nbformat": 4,
  "nbformat_minor": 0
}